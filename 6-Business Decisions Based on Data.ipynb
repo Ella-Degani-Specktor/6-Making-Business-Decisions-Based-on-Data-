{
 "cells": [
  {
   "cell_type": "markdown",
   "id": "288169d6",
   "metadata": {},
   "source": [
    "# Project description"
   ]
  },
  {
   "cell_type": "markdown",
   "id": "19659bdd",
   "metadata": {},
   "source": [
    "We are analysts at a big online store. Together with the marketing department, we've compiled a list of hypotheses that may help boost revenue.\n",
    "\n",
    "We need to prioritize these hypotheses, launch an A/B test, and analyze the results."
   ]
  },
  {
   "cell_type": "markdown",
   "id": "e2e28db7",
   "metadata": {},
   "source": [
    "# Data description"
   ]
  },
  {
   "cell_type": "markdown",
   "id": "a5c56564",
   "metadata": {},
   "source": [
    "1) Data used in the first part of the project:\n",
    "\n",
    "**hypotheses**\n",
    "- Hypotheses — brief descriptions of the hypotheses\n",
    "- Reach — user reach, on a scale of one to ten\n",
    "- Impact — impact on users, on a scale of one to ten\n",
    "- Confidence — confidence in the hypothesis, on a scale of one to ten\n",
    "- Effort — the resources required to test a hypothesis, on a scale of one to ten. The higher the Effort value, the more resource-intensive the test.\n",
    "\n",
    "2) Data used in the second part of the project:\n",
    "\n",
    "**orders**\n",
    "- transactionId — order identifier\n",
    "- visitorId — identifier of the user who placed the order\n",
    "- date — of the order\n",
    "- revenue — from the order\n",
    "- group — the A/B test group that the user belongs to\n",
    "\n",
    "**visits**\n",
    "- date — date\n",
    "- group — A/B test group\n",
    "- visits — the number of visits on the date specified in the A/B test group specified"
   ]
  },
  {
   "cell_type": "markdown",
   "id": "8b3b4fdc",
   "metadata": {},
   "source": [
    "# Library imports"
   ]
  },
  {
   "cell_type": "code",
   "execution_count": 1,
   "id": "39b786cd",
   "metadata": {},
   "outputs": [],
   "source": [
    "#Libraries and project environment setup:\n",
    "\n",
    "##Pandas and Numpy for data preprocessing and manipulation\n",
    "import pandas as pd\n",
    "import numpy as np\n",
    "\n",
    "##Remove warnings\n",
    "import sys\n",
    "import warnings\n",
    "if not sys.warnoptions:\n",
    "   warnings.simplefilter(\"ignore\");\n",
    "\n",
    "##Scipy, Math and Random for SDA\n",
    "from scipy import stats as st\n",
    "import math\n",
    "import random\n",
    "\n",
    "##Matplotlib, Seaborn and Plotly for visualization\n",
    "import matplotlib.pyplot as plt\n",
    "from matplotlib.lines import Line2D\n",
    "import seaborn as sns\n",
    "import plotly.express as px\n",
    "import plotly.graph_objects as go"
   ]
  },
  {
   "cell_type": "markdown",
   "id": "3791ffd8",
   "metadata": {},
   "source": [
    "# CSV file read"
   ]
  },
  {
   "cell_type": "code",
   "execution_count": 2,
   "id": "83dd9643",
   "metadata": {},
   "outputs": [],
   "source": [
    "#We use try-except to handle unexpected errors\n",
    "try:\n",
    "    hypo=pd.read_csv('/datasets/hypotheses_us.csv', sep=';')\n",
    "    orders=pd.read_csv('/datasets/orders_us.csv')\n",
    "    visits=pd.read_csv('/datasets/visits_us.csv')\n",
    "\n",
    "except:\n",
    "    hypo=pd.read_csv('https://code.s3.yandex.net/datasets/hypotheses_us.csv', sep=';')\n",
    "    orders=pd.read_csv('https://code.s3.yandex.net/datasets/orders_us.csv')\n",
    "    visits=pd.read_csv('https://code.s3.yandex.net/datasets/visits_us.csv')"
   ]
  },
  {
   "cell_type": "markdown",
   "id": "569f43cf",
   "metadata": {},
   "source": [
    "# General information and preprocessing"
   ]
  },
  {
   "cell_type": "markdown",
   "id": "200fe9d4",
   "metadata": {},
   "source": [
    "## Hypotheses"
   ]
  },
  {
   "cell_type": "code",
   "execution_count": 3,
   "id": "1f7d33e7",
   "metadata": {},
   "outputs": [
    {
     "data": {
      "text/html": [
       "<div>\n",
       "<style scoped>\n",
       "    .dataframe tbody tr th:only-of-type {\n",
       "        vertical-align: middle;\n",
       "    }\n",
       "\n",
       "    .dataframe tbody tr th {\n",
       "        vertical-align: top;\n",
       "    }\n",
       "\n",
       "    .dataframe thead th {\n",
       "        text-align: right;\n",
       "    }\n",
       "</style>\n",
       "<table border=\"1\" class=\"dataframe\">\n",
       "  <thead>\n",
       "    <tr style=\"text-align: right;\">\n",
       "      <th></th>\n",
       "      <th>Hypothesis</th>\n",
       "      <th>Reach</th>\n",
       "      <th>Impact</th>\n",
       "      <th>Confidence</th>\n",
       "      <th>Effort</th>\n",
       "    </tr>\n",
       "  </thead>\n",
       "  <tbody>\n",
       "    <tr>\n",
       "      <th>0</th>\n",
       "      <td>Add two new channels for attracting traffic. T...</td>\n",
       "      <td>3</td>\n",
       "      <td>10</td>\n",
       "      <td>8</td>\n",
       "      <td>6</td>\n",
       "    </tr>\n",
       "    <tr>\n",
       "      <th>1</th>\n",
       "      <td>Launch your own delivery service. This will sh...</td>\n",
       "      <td>2</td>\n",
       "      <td>5</td>\n",
       "      <td>4</td>\n",
       "      <td>10</td>\n",
       "    </tr>\n",
       "    <tr>\n",
       "      <th>2</th>\n",
       "      <td>Add product recommendation blocks to the store...</td>\n",
       "      <td>8</td>\n",
       "      <td>3</td>\n",
       "      <td>7</td>\n",
       "      <td>3</td>\n",
       "    </tr>\n",
       "    <tr>\n",
       "      <th>3</th>\n",
       "      <td>Change the category structure. This will incre...</td>\n",
       "      <td>8</td>\n",
       "      <td>3</td>\n",
       "      <td>3</td>\n",
       "      <td>8</td>\n",
       "    </tr>\n",
       "    <tr>\n",
       "      <th>4</th>\n",
       "      <td>Change the background color on the main page. ...</td>\n",
       "      <td>3</td>\n",
       "      <td>1</td>\n",
       "      <td>1</td>\n",
       "      <td>1</td>\n",
       "    </tr>\n",
       "  </tbody>\n",
       "</table>\n",
       "</div>"
      ],
      "text/plain": [
       "                                          Hypothesis  Reach  Impact  \\\n",
       "0  Add two new channels for attracting traffic. T...      3      10   \n",
       "1  Launch your own delivery service. This will sh...      2       5   \n",
       "2  Add product recommendation blocks to the store...      8       3   \n",
       "3  Change the category structure. This will incre...      8       3   \n",
       "4  Change the background color on the main page. ...      3       1   \n",
       "\n",
       "   Confidence  Effort  \n",
       "0           8       6  \n",
       "1           4      10  \n",
       "2           7       3  \n",
       "3           3       8  \n",
       "4           1       1  "
      ]
     },
     "execution_count": 3,
     "metadata": {},
     "output_type": "execute_result"
    }
   ],
   "source": [
    "#First, in order to guarantee efficiency we immediately drop row-based duplicates\n",
    "hypo.drop_duplicates(inplace=True,keep='first')\n",
    "hypo.reset_index(drop=True, inplace=True)\n",
    "\n",
    "#Print the first five entries in the dataframe\n",
    "hypo.head()"
   ]
  },
  {
   "cell_type": "markdown",
   "id": "9021476b",
   "metadata": {},
   "source": [
    "No visible NaN values."
   ]
  },
  {
   "cell_type": "code",
   "execution_count": 4,
   "id": "929d5e22",
   "metadata": {},
   "outputs": [
    {
     "name": "stdout",
     "output_type": "stream",
     "text": [
      "<class 'pandas.core.frame.DataFrame'>\n",
      "RangeIndex: 9 entries, 0 to 8\n",
      "Data columns (total 5 columns):\n",
      " #   Column      Non-Null Count  Dtype \n",
      "---  ------      --------------  ----- \n",
      " 0   Hypothesis  9 non-null      object\n",
      " 1   Reach       9 non-null      int64 \n",
      " 2   Impact      9 non-null      int64 \n",
      " 3   Confidence  9 non-null      int64 \n",
      " 4   Effort      9 non-null      int64 \n",
      "dtypes: int64(4), object(1)\n",
      "memory usage: 488.0+ bytes\n"
     ]
    }
   ],
   "source": [
    "#General file examination\n",
    "hypo.info()"
   ]
  },
  {
   "cell_type": "markdown",
   "id": "8750f0b4",
   "metadata": {},
   "source": [
    "- Results show column names are accurate to the project data description.\n",
    "- Dataset includes 9 entries and 5 columns.\n",
    "- There are no missing values.\n",
    "- Hypotheses column is categorical and the rest are quantitative.\n",
    "- All column names need to be replaced with their lowercase versions."
   ]
  },
  {
   "cell_type": "code",
   "execution_count": 5,
   "id": "66186beb",
   "metadata": {},
   "outputs": [],
   "source": [
    "#Replacing column names with their lowercase versions\n",
    "hypo.columns = hypo.columns.str.lower()"
   ]
  },
  {
   "cell_type": "code",
   "execution_count": 6,
   "id": "3a54a468",
   "metadata": {},
   "outputs": [
    {
     "data": {
      "text/html": [
       "<div>\n",
       "<style scoped>\n",
       "    .dataframe tbody tr th:only-of-type {\n",
       "        vertical-align: middle;\n",
       "    }\n",
       "\n",
       "    .dataframe tbody tr th {\n",
       "        vertical-align: top;\n",
       "    }\n",
       "\n",
       "    .dataframe thead th {\n",
       "        text-align: right;\n",
       "    }\n",
       "</style>\n",
       "<table border=\"1\" class=\"dataframe\">\n",
       "  <thead>\n",
       "    <tr style=\"text-align: right;\">\n",
       "      <th></th>\n",
       "      <th>hypothesis</th>\n",
       "      <th>reach</th>\n",
       "      <th>impact</th>\n",
       "      <th>confidence</th>\n",
       "      <th>effort</th>\n",
       "    </tr>\n",
       "  </thead>\n",
       "  <tbody>\n",
       "    <tr>\n",
       "      <th>count</th>\n",
       "      <td>9</td>\n",
       "      <td>9.000000</td>\n",
       "      <td>9.000000</td>\n",
       "      <td>9.000000</td>\n",
       "      <td>9.000000</td>\n",
       "    </tr>\n",
       "    <tr>\n",
       "      <th>unique</th>\n",
       "      <td>9</td>\n",
       "      <td>NaN</td>\n",
       "      <td>NaN</td>\n",
       "      <td>NaN</td>\n",
       "      <td>NaN</td>\n",
       "    </tr>\n",
       "    <tr>\n",
       "      <th>top</th>\n",
       "      <td>Add a customer review page. This will increase...</td>\n",
       "      <td>NaN</td>\n",
       "      <td>NaN</td>\n",
       "      <td>NaN</td>\n",
       "      <td>NaN</td>\n",
       "    </tr>\n",
       "    <tr>\n",
       "      <th>freq</th>\n",
       "      <td>1</td>\n",
       "      <td>NaN</td>\n",
       "      <td>NaN</td>\n",
       "      <td>NaN</td>\n",
       "      <td>NaN</td>\n",
       "    </tr>\n",
       "    <tr>\n",
       "      <th>mean</th>\n",
       "      <td>NaN</td>\n",
       "      <td>4.777778</td>\n",
       "      <td>4.777778</td>\n",
       "      <td>5.555556</td>\n",
       "      <td>4.888889</td>\n",
       "    </tr>\n",
       "    <tr>\n",
       "      <th>std</th>\n",
       "      <td>NaN</td>\n",
       "      <td>3.153481</td>\n",
       "      <td>3.192874</td>\n",
       "      <td>3.045944</td>\n",
       "      <td>2.803767</td>\n",
       "    </tr>\n",
       "    <tr>\n",
       "      <th>min</th>\n",
       "      <td>NaN</td>\n",
       "      <td>1.000000</td>\n",
       "      <td>1.000000</td>\n",
       "      <td>1.000000</td>\n",
       "      <td>1.000000</td>\n",
       "    </tr>\n",
       "    <tr>\n",
       "      <th>25%</th>\n",
       "      <td>NaN</td>\n",
       "      <td>3.000000</td>\n",
       "      <td>3.000000</td>\n",
       "      <td>3.000000</td>\n",
       "      <td>3.000000</td>\n",
       "    </tr>\n",
       "    <tr>\n",
       "      <th>50%</th>\n",
       "      <td>NaN</td>\n",
       "      <td>3.000000</td>\n",
       "      <td>3.000000</td>\n",
       "      <td>7.000000</td>\n",
       "      <td>5.000000</td>\n",
       "    </tr>\n",
       "    <tr>\n",
       "      <th>75%</th>\n",
       "      <td>NaN</td>\n",
       "      <td>8.000000</td>\n",
       "      <td>7.000000</td>\n",
       "      <td>8.000000</td>\n",
       "      <td>6.000000</td>\n",
       "    </tr>\n",
       "    <tr>\n",
       "      <th>max</th>\n",
       "      <td>NaN</td>\n",
       "      <td>10.000000</td>\n",
       "      <td>10.000000</td>\n",
       "      <td>9.000000</td>\n",
       "      <td>10.000000</td>\n",
       "    </tr>\n",
       "  </tbody>\n",
       "</table>\n",
       "</div>"
      ],
      "text/plain": [
       "                                               hypothesis      reach  \\\n",
       "count                                                   9   9.000000   \n",
       "unique                                                  9        NaN   \n",
       "top     Add a customer review page. This will increase...        NaN   \n",
       "freq                                                    1        NaN   \n",
       "mean                                                  NaN   4.777778   \n",
       "std                                                   NaN   3.153481   \n",
       "min                                                   NaN   1.000000   \n",
       "25%                                                   NaN   3.000000   \n",
       "50%                                                   NaN   3.000000   \n",
       "75%                                                   NaN   8.000000   \n",
       "max                                                   NaN  10.000000   \n",
       "\n",
       "           impact  confidence     effort  \n",
       "count    9.000000    9.000000   9.000000  \n",
       "unique        NaN         NaN        NaN  \n",
       "top           NaN         NaN        NaN  \n",
       "freq          NaN         NaN        NaN  \n",
       "mean     4.777778    5.555556   4.888889  \n",
       "std      3.192874    3.045944   2.803767  \n",
       "min      1.000000    1.000000   1.000000  \n",
       "25%      3.000000    3.000000   3.000000  \n",
       "50%      3.000000    7.000000   5.000000  \n",
       "75%      7.000000    8.000000   6.000000  \n",
       "max     10.000000    9.000000  10.000000  "
      ]
     },
     "execution_count": 6,
     "metadata": {},
     "output_type": "execute_result"
    }
   ],
   "source": [
    "#Integrated display of the columns\n",
    "hypo.describe(include='all')"
   ]
  },
  {
   "cell_type": "markdown",
   "id": "ce31bbb4",
   "metadata": {},
   "source": [
    "All seems in order."
   ]
  },
  {
   "cell_type": "markdown",
   "id": "43df01a0",
   "metadata": {},
   "source": [
    "## Orders"
   ]
  },
  {
   "cell_type": "code",
   "execution_count": 7,
   "id": "bde1472b",
   "metadata": {},
   "outputs": [
    {
     "data": {
      "text/html": [
       "<div>\n",
       "<style scoped>\n",
       "    .dataframe tbody tr th:only-of-type {\n",
       "        vertical-align: middle;\n",
       "    }\n",
       "\n",
       "    .dataframe tbody tr th {\n",
       "        vertical-align: top;\n",
       "    }\n",
       "\n",
       "    .dataframe thead th {\n",
       "        text-align: right;\n",
       "    }\n",
       "</style>\n",
       "<table border=\"1\" class=\"dataframe\">\n",
       "  <thead>\n",
       "    <tr style=\"text-align: right;\">\n",
       "      <th></th>\n",
       "      <th>transactionId</th>\n",
       "      <th>visitorId</th>\n",
       "      <th>date</th>\n",
       "      <th>revenue</th>\n",
       "      <th>group</th>\n",
       "    </tr>\n",
       "  </thead>\n",
       "  <tbody>\n",
       "    <tr>\n",
       "      <th>0</th>\n",
       "      <td>3667963787</td>\n",
       "      <td>3312258926</td>\n",
       "      <td>2019-08-15</td>\n",
       "      <td>30.4</td>\n",
       "      <td>B</td>\n",
       "    </tr>\n",
       "    <tr>\n",
       "      <th>1</th>\n",
       "      <td>2804400009</td>\n",
       "      <td>3642806036</td>\n",
       "      <td>2019-08-15</td>\n",
       "      <td>15.2</td>\n",
       "      <td>B</td>\n",
       "    </tr>\n",
       "    <tr>\n",
       "      <th>2</th>\n",
       "      <td>2961555356</td>\n",
       "      <td>4069496402</td>\n",
       "      <td>2019-08-15</td>\n",
       "      <td>10.2</td>\n",
       "      <td>A</td>\n",
       "    </tr>\n",
       "    <tr>\n",
       "      <th>3</th>\n",
       "      <td>3797467345</td>\n",
       "      <td>1196621759</td>\n",
       "      <td>2019-08-15</td>\n",
       "      <td>155.1</td>\n",
       "      <td>B</td>\n",
       "    </tr>\n",
       "    <tr>\n",
       "      <th>4</th>\n",
       "      <td>2282983706</td>\n",
       "      <td>2322279887</td>\n",
       "      <td>2019-08-15</td>\n",
       "      <td>40.5</td>\n",
       "      <td>B</td>\n",
       "    </tr>\n",
       "  </tbody>\n",
       "</table>\n",
       "</div>"
      ],
      "text/plain": [
       "   transactionId   visitorId        date  revenue group\n",
       "0     3667963787  3312258926  2019-08-15     30.4     B\n",
       "1     2804400009  3642806036  2019-08-15     15.2     B\n",
       "2     2961555356  4069496402  2019-08-15     10.2     A\n",
       "3     3797467345  1196621759  2019-08-15    155.1     B\n",
       "4     2282983706  2322279887  2019-08-15     40.5     B"
      ]
     },
     "execution_count": 7,
     "metadata": {},
     "output_type": "execute_result"
    }
   ],
   "source": [
    "#First, in order to guarantee efficiency we immediately drop row-based duplicates\n",
    "orders.drop_duplicates(inplace=True,keep='first')\n",
    "orders.reset_index(drop=True, inplace=True)\n",
    "\n",
    "#Print the first five entries in the dataframe\n",
    "orders.head()"
   ]
  },
  {
   "cell_type": "markdown",
   "id": "efbec53e",
   "metadata": {},
   "source": [
    "No visible NaN values."
   ]
  },
  {
   "cell_type": "code",
   "execution_count": 8,
   "id": "ab1c2fa8",
   "metadata": {},
   "outputs": [
    {
     "name": "stdout",
     "output_type": "stream",
     "text": [
      "<class 'pandas.core.frame.DataFrame'>\n",
      "RangeIndex: 1197 entries, 0 to 1196\n",
      "Data columns (total 5 columns):\n",
      " #   Column         Non-Null Count  Dtype  \n",
      "---  ------         --------------  -----  \n",
      " 0   transactionId  1197 non-null   int64  \n",
      " 1   visitorId      1197 non-null   int64  \n",
      " 2   date           1197 non-null   object \n",
      " 3   revenue        1197 non-null   float64\n",
      " 4   group          1197 non-null   object \n",
      "dtypes: float64(1), int64(2), object(2)\n",
      "memory usage: 46.9+ KB\n"
     ]
    }
   ],
   "source": [
    "#General file examination\n",
    "orders.info()"
   ]
  },
  {
   "cell_type": "markdown",
   "id": "4c51bb35",
   "metadata": {},
   "source": [
    "- Results show column names are accurate to the project data description.\n",
    "- Dataset includes 1197 entries and 5 columns.\n",
    "- There are no missing values.\n",
    "- date contains object type values we'll need to convert to datetime."
   ]
  },
  {
   "cell_type": "code",
   "execution_count": 9,
   "id": "d69bb653",
   "metadata": {},
   "outputs": [],
   "source": [
    "#Changing data type to datetime\n",
    "orders['date'] =  pd.to_datetime(orders['date'],dayfirst=True)"
   ]
  },
  {
   "cell_type": "code",
   "execution_count": 10,
   "id": "b52b1dd9",
   "metadata": {},
   "outputs": [
    {
     "data": {
      "text/html": [
       "<div>\n",
       "<style scoped>\n",
       "    .dataframe tbody tr th:only-of-type {\n",
       "        vertical-align: middle;\n",
       "    }\n",
       "\n",
       "    .dataframe tbody tr th {\n",
       "        vertical-align: top;\n",
       "    }\n",
       "\n",
       "    .dataframe thead th {\n",
       "        text-align: right;\n",
       "    }\n",
       "</style>\n",
       "<table border=\"1\" class=\"dataframe\">\n",
       "  <thead>\n",
       "    <tr style=\"text-align: right;\">\n",
       "      <th></th>\n",
       "      <th>transactionId</th>\n",
       "      <th>visitorId</th>\n",
       "      <th>date</th>\n",
       "      <th>revenue</th>\n",
       "      <th>group</th>\n",
       "    </tr>\n",
       "  </thead>\n",
       "  <tbody>\n",
       "    <tr>\n",
       "      <th>count</th>\n",
       "      <td>1.197000e+03</td>\n",
       "      <td>1.197000e+03</td>\n",
       "      <td>1197</td>\n",
       "      <td>1197.000000</td>\n",
       "      <td>1197</td>\n",
       "    </tr>\n",
       "    <tr>\n",
       "      <th>unique</th>\n",
       "      <td>NaN</td>\n",
       "      <td>NaN</td>\n",
       "      <td>31</td>\n",
       "      <td>NaN</td>\n",
       "      <td>2</td>\n",
       "    </tr>\n",
       "    <tr>\n",
       "      <th>top</th>\n",
       "      <td>NaN</td>\n",
       "      <td>NaN</td>\n",
       "      <td>2019-08-05 00:00:00</td>\n",
       "      <td>NaN</td>\n",
       "      <td>B</td>\n",
       "    </tr>\n",
       "    <tr>\n",
       "      <th>freq</th>\n",
       "      <td>NaN</td>\n",
       "      <td>NaN</td>\n",
       "      <td>48</td>\n",
       "      <td>NaN</td>\n",
       "      <td>640</td>\n",
       "    </tr>\n",
       "    <tr>\n",
       "      <th>first</th>\n",
       "      <td>NaN</td>\n",
       "      <td>NaN</td>\n",
       "      <td>2019-08-01 00:00:00</td>\n",
       "      <td>NaN</td>\n",
       "      <td>NaN</td>\n",
       "    </tr>\n",
       "    <tr>\n",
       "      <th>last</th>\n",
       "      <td>NaN</td>\n",
       "      <td>NaN</td>\n",
       "      <td>2019-08-31 00:00:00</td>\n",
       "      <td>NaN</td>\n",
       "      <td>NaN</td>\n",
       "    </tr>\n",
       "    <tr>\n",
       "      <th>mean</th>\n",
       "      <td>2.155621e+09</td>\n",
       "      <td>2.165960e+09</td>\n",
       "      <td>NaN</td>\n",
       "      <td>131.491646</td>\n",
       "      <td>NaN</td>\n",
       "    </tr>\n",
       "    <tr>\n",
       "      <th>std</th>\n",
       "      <td>1.229085e+09</td>\n",
       "      <td>1.236014e+09</td>\n",
       "      <td>NaN</td>\n",
       "      <td>603.004729</td>\n",
       "      <td>NaN</td>\n",
       "    </tr>\n",
       "    <tr>\n",
       "      <th>min</th>\n",
       "      <td>1.062393e+06</td>\n",
       "      <td>5.114589e+06</td>\n",
       "      <td>NaN</td>\n",
       "      <td>5.000000</td>\n",
       "      <td>NaN</td>\n",
       "    </tr>\n",
       "    <tr>\n",
       "      <th>25%</th>\n",
       "      <td>1.166776e+09</td>\n",
       "      <td>1.111826e+09</td>\n",
       "      <td>NaN</td>\n",
       "      <td>20.800000</td>\n",
       "      <td>NaN</td>\n",
       "    </tr>\n",
       "    <tr>\n",
       "      <th>50%</th>\n",
       "      <td>2.145194e+09</td>\n",
       "      <td>2.217985e+09</td>\n",
       "      <td>NaN</td>\n",
       "      <td>50.200000</td>\n",
       "      <td>NaN</td>\n",
       "    </tr>\n",
       "    <tr>\n",
       "      <th>75%</th>\n",
       "      <td>3.237740e+09</td>\n",
       "      <td>3.177606e+09</td>\n",
       "      <td>NaN</td>\n",
       "      <td>130.400000</td>\n",
       "      <td>NaN</td>\n",
       "    </tr>\n",
       "    <tr>\n",
       "      <th>max</th>\n",
       "      <td>4.293856e+09</td>\n",
       "      <td>4.283872e+09</td>\n",
       "      <td>NaN</td>\n",
       "      <td>19920.400000</td>\n",
       "      <td>NaN</td>\n",
       "    </tr>\n",
       "  </tbody>\n",
       "</table>\n",
       "</div>"
      ],
      "text/plain": [
       "        transactionId     visitorId                 date       revenue group\n",
       "count    1.197000e+03  1.197000e+03                 1197   1197.000000  1197\n",
       "unique            NaN           NaN                   31           NaN     2\n",
       "top               NaN           NaN  2019-08-05 00:00:00           NaN     B\n",
       "freq              NaN           NaN                   48           NaN   640\n",
       "first             NaN           NaN  2019-08-01 00:00:00           NaN   NaN\n",
       "last              NaN           NaN  2019-08-31 00:00:00           NaN   NaN\n",
       "mean     2.155621e+09  2.165960e+09                  NaN    131.491646   NaN\n",
       "std      1.229085e+09  1.236014e+09                  NaN    603.004729   NaN\n",
       "min      1.062393e+06  5.114589e+06                  NaN      5.000000   NaN\n",
       "25%      1.166776e+09  1.111826e+09                  NaN     20.800000   NaN\n",
       "50%      2.145194e+09  2.217985e+09                  NaN     50.200000   NaN\n",
       "75%      3.237740e+09  3.177606e+09                  NaN    130.400000   NaN\n",
       "max      4.293856e+09  4.283872e+09                  NaN  19920.400000   NaN"
      ]
     },
     "execution_count": 10,
     "metadata": {},
     "output_type": "execute_result"
    }
   ],
   "source": [
    "#Integrated display of the columns\n",
    "orders.describe(include='all')"
   ]
  },
  {
   "cell_type": "markdown",
   "id": "a0d6fd84",
   "metadata": {},
   "source": [
    "All seems in order."
   ]
  },
  {
   "cell_type": "markdown",
   "id": "c206607b",
   "metadata": {},
   "source": [
    "## Visits"
   ]
  },
  {
   "cell_type": "code",
   "execution_count": 11,
   "id": "bb2decdb",
   "metadata": {},
   "outputs": [
    {
     "data": {
      "text/html": [
       "<div>\n",
       "<style scoped>\n",
       "    .dataframe tbody tr th:only-of-type {\n",
       "        vertical-align: middle;\n",
       "    }\n",
       "\n",
       "    .dataframe tbody tr th {\n",
       "        vertical-align: top;\n",
       "    }\n",
       "\n",
       "    .dataframe thead th {\n",
       "        text-align: right;\n",
       "    }\n",
       "</style>\n",
       "<table border=\"1\" class=\"dataframe\">\n",
       "  <thead>\n",
       "    <tr style=\"text-align: right;\">\n",
       "      <th></th>\n",
       "      <th>date</th>\n",
       "      <th>group</th>\n",
       "      <th>visits</th>\n",
       "    </tr>\n",
       "  </thead>\n",
       "  <tbody>\n",
       "    <tr>\n",
       "      <th>0</th>\n",
       "      <td>2019-08-01</td>\n",
       "      <td>A</td>\n",
       "      <td>719</td>\n",
       "    </tr>\n",
       "    <tr>\n",
       "      <th>1</th>\n",
       "      <td>2019-08-02</td>\n",
       "      <td>A</td>\n",
       "      <td>619</td>\n",
       "    </tr>\n",
       "    <tr>\n",
       "      <th>2</th>\n",
       "      <td>2019-08-03</td>\n",
       "      <td>A</td>\n",
       "      <td>507</td>\n",
       "    </tr>\n",
       "    <tr>\n",
       "      <th>3</th>\n",
       "      <td>2019-08-04</td>\n",
       "      <td>A</td>\n",
       "      <td>717</td>\n",
       "    </tr>\n",
       "    <tr>\n",
       "      <th>4</th>\n",
       "      <td>2019-08-05</td>\n",
       "      <td>A</td>\n",
       "      <td>756</td>\n",
       "    </tr>\n",
       "  </tbody>\n",
       "</table>\n",
       "</div>"
      ],
      "text/plain": [
       "         date group  visits\n",
       "0  2019-08-01     A     719\n",
       "1  2019-08-02     A     619\n",
       "2  2019-08-03     A     507\n",
       "3  2019-08-04     A     717\n",
       "4  2019-08-05     A     756"
      ]
     },
     "execution_count": 11,
     "metadata": {},
     "output_type": "execute_result"
    }
   ],
   "source": [
    "#First, in order to guarantee efficiency we immediately drop row-based duplicates\n",
    "visits.drop_duplicates(inplace=True,keep='first')\n",
    "visits.reset_index(drop=True, inplace=True)\n",
    "\n",
    "#Print the first five entries in the dataframe\n",
    "visits.head()"
   ]
  },
  {
   "cell_type": "markdown",
   "id": "93fbf980",
   "metadata": {},
   "source": [
    "No visible NaN values."
   ]
  },
  {
   "cell_type": "code",
   "execution_count": 12,
   "id": "c0a7ac35",
   "metadata": {},
   "outputs": [
    {
     "name": "stdout",
     "output_type": "stream",
     "text": [
      "<class 'pandas.core.frame.DataFrame'>\n",
      "RangeIndex: 62 entries, 0 to 61\n",
      "Data columns (total 3 columns):\n",
      " #   Column  Non-Null Count  Dtype \n",
      "---  ------  --------------  ----- \n",
      " 0   date    62 non-null     object\n",
      " 1   group   62 non-null     object\n",
      " 2   visits  62 non-null     int64 \n",
      "dtypes: int64(1), object(2)\n",
      "memory usage: 1.6+ KB\n"
     ]
    }
   ],
   "source": [
    "#General file examination\n",
    "visits.info()"
   ]
  },
  {
   "cell_type": "markdown",
   "id": "7c906575",
   "metadata": {},
   "source": [
    "- Results show column names are accurate to the project data description.\n",
    "- Dataset includes 62 entries and 3 columns.\n",
    "- There are no missing values.\n",
    "- date contains object type values we'll need to convert to datetime."
   ]
  },
  {
   "cell_type": "code",
   "execution_count": 13,
   "id": "45d8d11d",
   "metadata": {},
   "outputs": [],
   "source": [
    "#Changing data type to datetime\n",
    "visits['date'] =  pd.to_datetime(visits['date'],dayfirst=True)"
   ]
  },
  {
   "cell_type": "code",
   "execution_count": 14,
   "id": "0d2a72cd",
   "metadata": {},
   "outputs": [
    {
     "data": {
      "text/html": [
       "<div>\n",
       "<style scoped>\n",
       "    .dataframe tbody tr th:only-of-type {\n",
       "        vertical-align: middle;\n",
       "    }\n",
       "\n",
       "    .dataframe tbody tr th {\n",
       "        vertical-align: top;\n",
       "    }\n",
       "\n",
       "    .dataframe thead th {\n",
       "        text-align: right;\n",
       "    }\n",
       "</style>\n",
       "<table border=\"1\" class=\"dataframe\">\n",
       "  <thead>\n",
       "    <tr style=\"text-align: right;\">\n",
       "      <th></th>\n",
       "      <th>date</th>\n",
       "      <th>group</th>\n",
       "      <th>visits</th>\n",
       "    </tr>\n",
       "  </thead>\n",
       "  <tbody>\n",
       "    <tr>\n",
       "      <th>count</th>\n",
       "      <td>62</td>\n",
       "      <td>62</td>\n",
       "      <td>62.000000</td>\n",
       "    </tr>\n",
       "    <tr>\n",
       "      <th>unique</th>\n",
       "      <td>31</td>\n",
       "      <td>2</td>\n",
       "      <td>NaN</td>\n",
       "    </tr>\n",
       "    <tr>\n",
       "      <th>top</th>\n",
       "      <td>2019-08-27 00:00:00</td>\n",
       "      <td>A</td>\n",
       "      <td>NaN</td>\n",
       "    </tr>\n",
       "    <tr>\n",
       "      <th>freq</th>\n",
       "      <td>2</td>\n",
       "      <td>31</td>\n",
       "      <td>NaN</td>\n",
       "    </tr>\n",
       "    <tr>\n",
       "      <th>first</th>\n",
       "      <td>2019-08-01 00:00:00</td>\n",
       "      <td>NaN</td>\n",
       "      <td>NaN</td>\n",
       "    </tr>\n",
       "    <tr>\n",
       "      <th>last</th>\n",
       "      <td>2019-08-31 00:00:00</td>\n",
       "      <td>NaN</td>\n",
       "      <td>NaN</td>\n",
       "    </tr>\n",
       "    <tr>\n",
       "      <th>mean</th>\n",
       "      <td>NaN</td>\n",
       "      <td>NaN</td>\n",
       "      <td>607.290323</td>\n",
       "    </tr>\n",
       "    <tr>\n",
       "      <th>std</th>\n",
       "      <td>NaN</td>\n",
       "      <td>NaN</td>\n",
       "      <td>114.400560</td>\n",
       "    </tr>\n",
       "    <tr>\n",
       "      <th>min</th>\n",
       "      <td>NaN</td>\n",
       "      <td>NaN</td>\n",
       "      <td>361.000000</td>\n",
       "    </tr>\n",
       "    <tr>\n",
       "      <th>25%</th>\n",
       "      <td>NaN</td>\n",
       "      <td>NaN</td>\n",
       "      <td>534.000000</td>\n",
       "    </tr>\n",
       "    <tr>\n",
       "      <th>50%</th>\n",
       "      <td>NaN</td>\n",
       "      <td>NaN</td>\n",
       "      <td>624.500000</td>\n",
       "    </tr>\n",
       "    <tr>\n",
       "      <th>75%</th>\n",
       "      <td>NaN</td>\n",
       "      <td>NaN</td>\n",
       "      <td>710.500000</td>\n",
       "    </tr>\n",
       "    <tr>\n",
       "      <th>max</th>\n",
       "      <td>NaN</td>\n",
       "      <td>NaN</td>\n",
       "      <td>770.000000</td>\n",
       "    </tr>\n",
       "  </tbody>\n",
       "</table>\n",
       "</div>"
      ],
      "text/plain": [
       "                       date group      visits\n",
       "count                    62    62   62.000000\n",
       "unique                   31     2         NaN\n",
       "top     2019-08-27 00:00:00     A         NaN\n",
       "freq                      2    31         NaN\n",
       "first   2019-08-01 00:00:00   NaN         NaN\n",
       "last    2019-08-31 00:00:00   NaN         NaN\n",
       "mean                    NaN   NaN  607.290323\n",
       "std                     NaN   NaN  114.400560\n",
       "min                     NaN   NaN  361.000000\n",
       "25%                     NaN   NaN  534.000000\n",
       "50%                     NaN   NaN  624.500000\n",
       "75%                     NaN   NaN  710.500000\n",
       "max                     NaN   NaN  770.000000"
      ]
     },
     "execution_count": 14,
     "metadata": {},
     "output_type": "execute_result"
    }
   ],
   "source": [
    "#Integrated display of the columns\n",
    "visits.describe(include='all')"
   ]
  },
  {
   "cell_type": "markdown",
   "id": "8dc19bee",
   "metadata": {},
   "source": [
    "All seems in order."
   ]
  },
  {
   "cell_type": "code",
   "execution_count": 15,
   "id": "97b42e99",
   "metadata": {},
   "outputs": [
    {
     "data": {
      "text/plain": [
       "4.845446950710109"
      ]
     },
     "execution_count": 15,
     "metadata": {},
     "output_type": "execute_result"
    }
   ],
   "source": [
    "#Checking if any visitors are in both groups (percentage)\n",
    "((orders.query('group == \"A\"').visitorId.nunique()+orders.query('group == \"B\"').visitorId.nunique())\n",
    " -orders.visitorId.nunique())/len(orders)*100"
   ]
  },
  {
   "cell_type": "markdown",
   "id": "6ca891ba",
   "metadata": {},
   "source": [
    "4.845% of visitors are in both groups, probably due to human error/technical issues."
   ]
  },
  {
   "cell_type": "code",
   "execution_count": 16,
   "id": "201c8520",
   "metadata": {},
   "outputs": [],
   "source": [
    "#By rule of thumb, we don't drop more than 5%-10% of data. Since we have 4.845% of incorrect data, we now drop it\n",
    "incorrect=(orders.groupby('visitorId').agg({'group':'nunique'}).reset_index()).query('group == 2')['visitorId'].values\n",
    "orders = orders.query('visitorId not in @incorrect')"
   ]
  },
  {
   "cell_type": "markdown",
   "id": "abb3ece9",
   "metadata": {},
   "source": [
    "# Part 1. Prioritizing Hypotheses"
   ]
  },
  {
   "cell_type": "code",
   "execution_count": 17,
   "id": "7ed9f0dd",
   "metadata": {
    "scrolled": true
   },
   "outputs": [
    {
     "data": {
      "text/html": [
       "<div>\n",
       "<style scoped>\n",
       "    .dataframe tbody tr th:only-of-type {\n",
       "        vertical-align: middle;\n",
       "    }\n",
       "\n",
       "    .dataframe tbody tr th {\n",
       "        vertical-align: top;\n",
       "    }\n",
       "\n",
       "    .dataframe thead th {\n",
       "        text-align: right;\n",
       "    }\n",
       "</style>\n",
       "<table border=\"1\" class=\"dataframe\">\n",
       "  <thead>\n",
       "    <tr style=\"text-align: right;\">\n",
       "      <th></th>\n",
       "      <th>hypothesis</th>\n",
       "      <th>ice</th>\n",
       "    </tr>\n",
       "  </thead>\n",
       "  <tbody>\n",
       "    <tr>\n",
       "      <th>8</th>\n",
       "      <td>Launch a promotion that gives users discounts ...</td>\n",
       "      <td>16.200000</td>\n",
       "    </tr>\n",
       "    <tr>\n",
       "      <th>0</th>\n",
       "      <td>Add two new channels for attracting traffic. T...</td>\n",
       "      <td>13.333333</td>\n",
       "    </tr>\n",
       "    <tr>\n",
       "      <th>7</th>\n",
       "      <td>Add a subscription form to all the main pages....</td>\n",
       "      <td>11.200000</td>\n",
       "    </tr>\n",
       "    <tr>\n",
       "      <th>6</th>\n",
       "      <td>Show banners with current offers and sales on ...</td>\n",
       "      <td>8.000000</td>\n",
       "    </tr>\n",
       "    <tr>\n",
       "      <th>2</th>\n",
       "      <td>Add product recommendation blocks to the store...</td>\n",
       "      <td>7.000000</td>\n",
       "    </tr>\n",
       "    <tr>\n",
       "      <th>1</th>\n",
       "      <td>Launch your own delivery service. This will sh...</td>\n",
       "      <td>2.000000</td>\n",
       "    </tr>\n",
       "    <tr>\n",
       "      <th>5</th>\n",
       "      <td>Add a customer review page. This will increase...</td>\n",
       "      <td>1.333333</td>\n",
       "    </tr>\n",
       "    <tr>\n",
       "      <th>3</th>\n",
       "      <td>Change the category structure. This will incre...</td>\n",
       "      <td>1.125000</td>\n",
       "    </tr>\n",
       "    <tr>\n",
       "      <th>4</th>\n",
       "      <td>Change the background color on the main page. ...</td>\n",
       "      <td>1.000000</td>\n",
       "    </tr>\n",
       "  </tbody>\n",
       "</table>\n",
       "</div>"
      ],
      "text/plain": [
       "                                          hypothesis        ice\n",
       "8  Launch a promotion that gives users discounts ...  16.200000\n",
       "0  Add two new channels for attracting traffic. T...  13.333333\n",
       "7  Add a subscription form to all the main pages....  11.200000\n",
       "6  Show banners with current offers and sales on ...   8.000000\n",
       "2  Add product recommendation blocks to the store...   7.000000\n",
       "1  Launch your own delivery service. This will sh...   2.000000\n",
       "5  Add a customer review page. This will increase...   1.333333\n",
       "3  Change the category structure. This will incre...   1.125000\n",
       "4  Change the background color on the main page. ...   1.000000"
      ]
     },
     "execution_count": 17,
     "metadata": {},
     "output_type": "execute_result"
    }
   ],
   "source": [
    "#Applying the ICE framework to prioritize hypotheses and sorting them in descending order of priority\n",
    "hypo['ice'] = (hypo['impact']*hypo['confidence'])/hypo['effort']\n",
    "hypo[['hypothesis','ice']].sort_values(by='ice', ascending=False)"
   ]
  },
  {
   "cell_type": "markdown",
   "id": "e00cf1ab",
   "metadata": {},
   "source": [
    "ICE indicates that 8,0,7,6,2 are the top five hypotheses."
   ]
  },
  {
   "cell_type": "code",
   "execution_count": 18,
   "id": "22d00926",
   "metadata": {},
   "outputs": [
    {
     "data": {
      "text/html": [
       "<div>\n",
       "<style scoped>\n",
       "    .dataframe tbody tr th:only-of-type {\n",
       "        vertical-align: middle;\n",
       "    }\n",
       "\n",
       "    .dataframe tbody tr th {\n",
       "        vertical-align: top;\n",
       "    }\n",
       "\n",
       "    .dataframe thead th {\n",
       "        text-align: right;\n",
       "    }\n",
       "</style>\n",
       "<table border=\"1\" class=\"dataframe\">\n",
       "  <thead>\n",
       "    <tr style=\"text-align: right;\">\n",
       "      <th></th>\n",
       "      <th>hypothesis</th>\n",
       "      <th>rice</th>\n",
       "    </tr>\n",
       "  </thead>\n",
       "  <tbody>\n",
       "    <tr>\n",
       "      <th>7</th>\n",
       "      <td>Add a subscription form to all the main pages....</td>\n",
       "      <td>112.0</td>\n",
       "    </tr>\n",
       "    <tr>\n",
       "      <th>2</th>\n",
       "      <td>Add product recommendation blocks to the store...</td>\n",
       "      <td>56.0</td>\n",
       "    </tr>\n",
       "    <tr>\n",
       "      <th>0</th>\n",
       "      <td>Add two new channels for attracting traffic. T...</td>\n",
       "      <td>40.0</td>\n",
       "    </tr>\n",
       "    <tr>\n",
       "      <th>6</th>\n",
       "      <td>Show banners with current offers and sales on ...</td>\n",
       "      <td>40.0</td>\n",
       "    </tr>\n",
       "    <tr>\n",
       "      <th>8</th>\n",
       "      <td>Launch a promotion that gives users discounts ...</td>\n",
       "      <td>16.2</td>\n",
       "    </tr>\n",
       "    <tr>\n",
       "      <th>3</th>\n",
       "      <td>Change the category structure. This will incre...</td>\n",
       "      <td>9.0</td>\n",
       "    </tr>\n",
       "    <tr>\n",
       "      <th>1</th>\n",
       "      <td>Launch your own delivery service. This will sh...</td>\n",
       "      <td>4.0</td>\n",
       "    </tr>\n",
       "    <tr>\n",
       "      <th>5</th>\n",
       "      <td>Add a customer review page. This will increase...</td>\n",
       "      <td>4.0</td>\n",
       "    </tr>\n",
       "    <tr>\n",
       "      <th>4</th>\n",
       "      <td>Change the background color on the main page. ...</td>\n",
       "      <td>3.0</td>\n",
       "    </tr>\n",
       "  </tbody>\n",
       "</table>\n",
       "</div>"
      ],
      "text/plain": [
       "                                          hypothesis   rice\n",
       "7  Add a subscription form to all the main pages....  112.0\n",
       "2  Add product recommendation blocks to the store...   56.0\n",
       "0  Add two new channels for attracting traffic. T...   40.0\n",
       "6  Show banners with current offers and sales on ...   40.0\n",
       "8  Launch a promotion that gives users discounts ...   16.2\n",
       "3  Change the category structure. This will incre...    9.0\n",
       "1  Launch your own delivery service. This will sh...    4.0\n",
       "5  Add a customer review page. This will increase...    4.0\n",
       "4  Change the background color on the main page. ...    3.0"
      ]
     },
     "execution_count": 18,
     "metadata": {},
     "output_type": "execute_result"
    }
   ],
   "source": [
    "#Applying the RICE framework to prioritize hypotheses and sorting them in descending order of priority\n",
    "hypo['rice'] = (hypo['reach']*hypo['impact']*hypo['confidence'])/hypo['effort']\n",
    "hypo[['hypothesis','rice']].sort_values(by='rice', ascending=False)"
   ]
  },
  {
   "cell_type": "markdown",
   "id": "5d5d74e0",
   "metadata": {},
   "source": [
    "RICE indicates that 7,2,0,6,8 are the same leading hypotheses as in ICE, but now 7 is in lead and 2 is instead of 8 as part of the top five."
   ]
  },
  {
   "cell_type": "code",
   "execution_count": 19,
   "id": "47d55303",
   "metadata": {},
   "outputs": [
    {
     "data": {
      "text/html": [
       "<div>\n",
       "<style scoped>\n",
       "    .dataframe tbody tr th:only-of-type {\n",
       "        vertical-align: middle;\n",
       "    }\n",
       "\n",
       "    .dataframe tbody tr th {\n",
       "        vertical-align: top;\n",
       "    }\n",
       "\n",
       "    .dataframe thead th {\n",
       "        text-align: right;\n",
       "    }\n",
       "</style>\n",
       "<table border=\"1\" class=\"dataframe\">\n",
       "  <thead>\n",
       "    <tr style=\"text-align: right;\">\n",
       "      <th></th>\n",
       "      <th>hypothesis</th>\n",
       "      <th>ice</th>\n",
       "      <th>rice</th>\n",
       "    </tr>\n",
       "  </thead>\n",
       "  <tbody>\n",
       "    <tr>\n",
       "      <th>0</th>\n",
       "      <td>Add two new channels for attracting traffic. T...</td>\n",
       "      <td>13.333333</td>\n",
       "      <td>40.0</td>\n",
       "    </tr>\n",
       "    <tr>\n",
       "      <th>1</th>\n",
       "      <td>Launch your own delivery service. This will sh...</td>\n",
       "      <td>2.000000</td>\n",
       "      <td>4.0</td>\n",
       "    </tr>\n",
       "    <tr>\n",
       "      <th>2</th>\n",
       "      <td>Add product recommendation blocks to the store...</td>\n",
       "      <td>7.000000</td>\n",
       "      <td>56.0</td>\n",
       "    </tr>\n",
       "    <tr>\n",
       "      <th>3</th>\n",
       "      <td>Change the category structure. This will incre...</td>\n",
       "      <td>1.125000</td>\n",
       "      <td>9.0</td>\n",
       "    </tr>\n",
       "    <tr>\n",
       "      <th>4</th>\n",
       "      <td>Change the background color on the main page. ...</td>\n",
       "      <td>1.000000</td>\n",
       "      <td>3.0</td>\n",
       "    </tr>\n",
       "    <tr>\n",
       "      <th>5</th>\n",
       "      <td>Add a customer review page. This will increase...</td>\n",
       "      <td>1.333333</td>\n",
       "      <td>4.0</td>\n",
       "    </tr>\n",
       "    <tr>\n",
       "      <th>6</th>\n",
       "      <td>Show banners with current offers and sales on ...</td>\n",
       "      <td>8.000000</td>\n",
       "      <td>40.0</td>\n",
       "    </tr>\n",
       "    <tr>\n",
       "      <th>7</th>\n",
       "      <td>Add a subscription form to all the main pages....</td>\n",
       "      <td>11.200000</td>\n",
       "      <td>112.0</td>\n",
       "    </tr>\n",
       "    <tr>\n",
       "      <th>8</th>\n",
       "      <td>Launch a promotion that gives users discounts ...</td>\n",
       "      <td>16.200000</td>\n",
       "      <td>16.2</td>\n",
       "    </tr>\n",
       "  </tbody>\n",
       "</table>\n",
       "</div>"
      ],
      "text/plain": [
       "                                          hypothesis        ice   rice\n",
       "0  Add two new channels for attracting traffic. T...  13.333333   40.0\n",
       "1  Launch your own delivery service. This will sh...   2.000000    4.0\n",
       "2  Add product recommendation blocks to the store...   7.000000   56.0\n",
       "3  Change the category structure. This will incre...   1.125000    9.0\n",
       "4  Change the background color on the main page. ...   1.000000    3.0\n",
       "5  Add a customer review page. This will increase...   1.333333    4.0\n",
       "6  Show banners with current offers and sales on ...   8.000000   40.0\n",
       "7  Add a subscription form to all the main pages....  11.200000  112.0\n",
       "8  Launch a promotion that gives users discounts ...  16.200000   16.2"
      ]
     },
     "execution_count": 19,
     "metadata": {},
     "output_type": "execute_result"
    }
   ],
   "source": [
    "#Taking a look at the changes of hypotheses prioritization when using RICE instead of ICE \n",
    "hypo[['hypothesis','ice','rice']]"
   ]
  },
  {
   "cell_type": "code",
   "execution_count": 20,
   "id": "75a23f1a",
   "metadata": {
    "scrolled": true
   },
   "outputs": [
    {
     "data": {
      "image/png": "[encoded data removed]",
      "text/plain": [
       "<Figure size 504x288 with 1 Axes>"
      ]
     },
     "metadata": {
      "needs_background": "light"
     },
     "output_type": "display_data"
    },
    {
     "data": {
      "image/png": "[encoded data removed]",
      "text/plain": [
       "<Figure size 504x288 with 1 Axes>"
      ]
     },
     "metadata": {
      "needs_background": "light"
     },
     "output_type": "display_data"
    }
   ],
   "source": [
    "#Plotting scatter and bar plots for visualization\n",
    "hypo.plot.scatter(x='ice', y='rice',title='ICE/RICE hypotheses prioritization',marker='+',figsize=(7,4))\n",
    "\n",
    "annotations=hypo.index\n",
    "for i, label in enumerate(annotations):\n",
    "    plt.annotate(label, (hypo['ice'].values[i], hypo['rice'].values[i]))\n",
    "\n",
    "hypo.reset_index().plot(kind='bar',y=['ice','rice'], title='ICE/RICE hypotheses prioritization',figsize=(7,4));"
   ]
  },
  {
   "cell_type": "markdown",
   "id": "29d4647e",
   "metadata": {},
   "source": [
    "**Components:**\n",
    "- Reach — how many users will be affected by the update you want to introduce.\n",
    "- Impact — how strongly this update will affect the users, their experience, and their satisfaction with the product.\n",
    "- Confidence — how sure you are that your product will affect them in this way.\n",
    "- Effort — how much will it cost to test the hypothesis.\n",
    "\n",
    "**ICE five most promising hypotheses:**\n",
    "- Launch a promotion that gives users discounts on their birthdays.\n",
    "- Add two new channels for attracting traffic. This will bring 30% more users.\n",
    "- Add a subscription form to all the main pages. This will help you compile a mailing list.\n",
    "- Show banners with current offers and sales on the main page. This will boost conversion.\n",
    "- Add product recommendation blocks to the store's site. This will increase conversion and average purchase size.\n",
    "\n",
    "**RICE five most promising hypotheses:**\n",
    "- Add a subscription form to all the main pages. This will help you compile a mailing list\n",
    "- Add product recommendation blocks to the store's site. This will increase conversion and average purchase size\n",
    "- Add two new channels for attracting traffic. This will bring 30% more users\n",
    "- Show banners with current offers and sales on the main page. This will boost conversion\n",
    "- Launch a promotion that gives users discounts on their birthdays\n",
    "\n",
    "**Plots and table depict:**\n",
    "- RICE always has the higher values.\n",
    "- Based on both scores the most promising hypotheses are 7,2,0,6,8.\n",
    "- Same hypotheses in the top 5, but different order, due to reach component or RICE."
   ]
  },
  {
   "cell_type": "markdown",
   "id": "0e035dfd",
   "metadata": {},
   "source": [
    "# Part 2. A/B Test Analysis"
   ]
  },
  {
   "cell_type": "markdown",
   "id": "1574be18",
   "metadata": {},
   "source": [
    "## 1. Graph cumulative revenue by group. Make conclusions and conjectures."
   ]
  },
  {
   "cell_type": "code",
   "execution_count": 21,
   "id": "fa761854",
   "metadata": {},
   "outputs": [
    {
     "data": {
      "image/png": "[encoded data removed]",
      "text/plain": [
       "<Figure size 864x288 with 1 Axes>"
      ]
     },
     "metadata": {
      "needs_background": "light"
     },
     "output_type": "display_data"
    }
   ],
   "source": [
    "#Creating array of unique paired date group values\n",
    "datesGroups = orders[['date', 'group']].drop_duplicates()\n",
    "\n",
    "#Aggregating cumulative daily orders data\n",
    "ordersAgg = datesGroups.apply(lambda x: \n",
    "                                     orders[np.logical_and(orders['date'] <= x['date'], orders['group'] == x['group'])].agg\n",
    "                                     ({'date':'max', 'group':'max', 'transactionId':'nunique', 'visitorId':'nunique', 'revenue':'sum'}),\n",
    "                                    axis=1).sort_values(by=['date', 'group'])\n",
    "\n",
    "#Aggregating cumulative daily visits data\n",
    "visitsAgg = datesGroups.apply(lambda x:\n",
    "                                    visits[np.logical_and(visits['date'] <= x['date'], visits['group'] == x['group'])].agg\n",
    "                                    ({'date':'max', 'group':'max', 'visits':'sum'}), axis=1).sort_values(by=['date', 'group'])\n",
    "\n",
    "#Merging tables and renaming columns\n",
    "cumData = ordersAgg.merge(visitsAgg, on=['date', 'group'])\n",
    "cumData.columns = ['date', 'group', 'orders', 'buyers', 'revenue', 'visits']\n",
    "\n",
    "#Creating group A dataframe of daily cumulative orders and cumulative revenue\n",
    "cumRevenueA = cumData[cumData['group'] == 'A'][['date', 'revenue', 'orders']].copy()\n",
    "\n",
    "#Creating group B dataframe of daily cumulative orders and cumulative revenue\n",
    "cumRevenueB = cumData[cumData['group'] == 'B'][['date', 'revenue', 'orders']].copy()\n",
    "\n",
    "#Plotting cumulative revenue by group\n",
    "plt.figure(figsize=(12,4))\n",
    "plt.title('Cumulative revenue by group')\n",
    "plt.plot(cumRevenueA['date'], cumRevenueA['revenue'], label='A')\n",
    "plt.plot(cumRevenueB['date'], cumRevenueB['revenue'], label='B')\n",
    "plt.ylabel('Revenue')\n",
    "plt.legend()\n",
    "plt.show()"
   ]
  },
  {
   "cell_type": "markdown",
   "id": "b7e63fca",
   "metadata": {},
   "source": [
    "Graph depicts the cumulative revenue by group. We see that at first, revenues are very similar. Towards 2019-08-21, revenue of group B increased (~30000), while revenue of group A didn't. This may be due to anomalous and expensive orders affecting the cumulative revenue. Afterwards, the difference remains at ~30000 although both continue to grow steadily. Trends are good and imply profits are made regardless of the group, yet group B is mostly in the lead."
   ]
  },
  {
   "cell_type": "markdown",
   "id": "56ad2efe",
   "metadata": {},
   "source": [
    "## 2. Graph cumulative average order size by group. Make conclusions and conjectures."
   ]
  },
  {
   "cell_type": "code",
   "execution_count": 22,
   "id": "c5c54393",
   "metadata": {},
   "outputs": [
    {
     "data": {
      "image/png": "[encoded data removed]",
      "text/plain": [
       "<Figure size 864x288 with 1 Axes>"
      ]
     },
     "metadata": {
      "needs_background": "light"
     },
     "output_type": "display_data"
    }
   ],
   "source": [
    "#Plotting cumulative average order size by group\n",
    "plt.figure(figsize=(12,4))\n",
    "plt.title('Cumulative average order size by group')\n",
    "plt.plot(cumRevenueA['date'], cumRevenueA['revenue'] / cumRevenueA['orders'], label='Group A')\n",
    "plt.plot(cumRevenueB['date'], cumRevenueB['revenue'] / cumRevenueB['orders'], label='Group B')\n",
    "plt.axhline((cumRevenueA['revenue']/cumRevenueA['orders']).mean(), linestyle='--', label='Group A average')\n",
    "plt.axhline((cumRevenueB['revenue']/cumRevenueB['orders']).mean(), color='orange', linestyle='--', label='Group B average')\n",
    "plt.ylabel('Average order size (revenue)')\n",
    "plt.legend()\n",
    "plt.show()"
   ]
  },
  {
   "cell_type": "markdown",
   "id": "fc9cfc96",
   "metadata": {},
   "source": [
    "Graph depicts cumulative average order size by group. Average order sizes stabilize towards the end, yet we still see the same spike for group B arounds the same time as in our previous graph, possibly due to outliers. After the spike revenue values for group B decrease even though up to that point there was an increase. Group A starts with a decrease but after about a week increases and slowly stabilizes."
   ]
  },
  {
   "cell_type": "markdown",
   "id": "055f3cc9",
   "metadata": {},
   "source": [
    "## 3. Graph the relative difference in cumulative average order size for group B compared with group A. Make conclusions and conjectures."
   ]
  },
  {
   "cell_type": "code",
   "execution_count": 23,
   "id": "d8e9117c",
   "metadata": {},
   "outputs": [
    {
     "data": {
      "image/png": "[encoded data removed]",
      "text/plain": [
       "<Figure size 864x288 with 1 Axes>"
      ]
     },
     "metadata": {
      "needs_background": "light"
     },
     "output_type": "display_data"
    }
   ],
   "source": [
    "#Merging cumulative revenue dataframes\n",
    "mergedCumRevenue = cumRevenueA.merge(cumRevenueB, on='date', how='left', suffixes=['A', 'B'])\n",
    "\n",
    "#Plotting relative difference in cumulative average order sizes\n",
    "plt.figure(figsize=(12,4))\n",
    "\n",
    "#Relative difference between x and y is (x-y)/y, and is equivalent to x/y-1\n",
    "plt.plot(mergedCumRevenue['date'],\n",
    "         (mergedCumRevenue['revenueB']/mergedCumRevenue['ordersB'])\\\n",
    "         /(mergedCumRevenue['revenueA']/mergedCumRevenue['ordersA'])-1)\n",
    "\n",
    "#Adding X axis\n",
    "plt.axhline(y=0, color='black', linestyle='--')\n",
    "\n",
    "plt.title('Relative difference in cumulative average order size for group B compared with group A')\n",
    "plt.ylabel('Relative difference in cumulative average order sizes (revenue)')\n",
    "plt.show()"
   ]
  },
  {
   "cell_type": "markdown",
   "id": "7c99913c",
   "metadata": {},
   "source": [
    "The difference starts with negative values and increases to positive values, followed by a drop back to the negatives, towards 2019-08-21 the difference increases significantly and then slowly decreases until the end. This increase is at the same time as in our previous graphs, and may be due to outliers instead of difference in test conditions. Group B is once again mostly in the lead.\n",
    "\n",
    "We recommended continuing the test to see whether the value of relative difference will continue decreasing or remain stable."
   ]
  },
  {
   "cell_type": "markdown",
   "id": "ed9c7582",
   "metadata": {},
   "source": [
    "## 4. Calculate each group's conversion rate as the ratio of orders to the number of visits for each day. Plot the daily conversion rates of the two groups and describe the difference. Draw conclusions and make conjectures."
   ]
  },
  {
   "cell_type": "code",
   "execution_count": 24,
   "id": "56cc2228",
   "metadata": {},
   "outputs": [
    {
     "data": {
      "image/png": "[encoded data removed]",
      "text/plain": [
       "<Figure size 864x288 with 1 Axes>"
      ]
     },
     "metadata": {
      "needs_background": "light"
     },
     "output_type": "display_data"
    },
    {
     "data": {
      "image/png": "[encoded data removed]",
      "text/plain": [
       "<Figure size 864x288 with 1 Axes>"
      ]
     },
     "metadata": {
      "needs_background": "light"
     },
     "output_type": "display_data"
    }
   ],
   "source": [
    "#Calculating cumulative conversion rate by daily ratio of orders to visits\n",
    "cumData['conversion'] = cumData['orders']/cumData['visits']\n",
    "\n",
    "#Creating group A dataframe of daily cumulative conversion rate\n",
    "cumDataA = cumData[cumData['group']=='A']\n",
    "\n",
    "#Creating group B dataframe of daily cumulative conversion rate\n",
    "cumDataB = cumData[cumData['group']=='B']\n",
    "\n",
    "#Plotting cumulative conversion rate by group\n",
    "plt.figure(figsize=(12,4))\n",
    "plt.plot(cumDataA['date'], cumDataA['conversion'], label='A')\n",
    "plt.plot(cumDataB['date'], cumDataB['conversion'], label='B')\n",
    "plt.title('Cumulative conversion rate by group')\n",
    "plt.ylabel('Cumulative conversion rate')\n",
    "plt.legend()\n",
    "plt.show()\n",
    "\n",
    "#Merging cumulative conversion rate dataframes and calculating relative difference\n",
    "mergedCumConversions=cumDataA[['date','conversion']].merge(cumDataB[['date','conversion']]\n",
    "                                                           ,on='date',how='left', suffixes=['A','B'])\n",
    "\n",
    "#Plotting relative difference in cumulative conversion rates\n",
    "plt.figure(figsize=(12,4))\n",
    "plt.plot(mergedCumConversions['date'], mergedCumConversions['conversionB']/mergedCumConversions['conversionA']-1)\n",
    "plt.axhline(y=0, color='black', linestyle='--')\n",
    "plt.title('Relative difference in cumulative conversion rates for group B compared with group A')\n",
    "plt.ylabel('Relative difference in cumulative conversion rates')\n",
    "plt.show()"
   ]
  },
  {
   "cell_type": "markdown",
   "id": "729a2825",
   "metadata": {},
   "source": [
    "Graph depicts conversion rate as the ratio of daily orders to number of visits per both group. There is an initial fluctuation with group A in the lead, yet after around a week, the ratio of group A decreases while group B increases and then stabilize with group B mostly in the lead. Both seem to fluctuate around the ratio of: A-0.025/0.026, B-0.029/0.031. Difference is always in the range of 0 to +/- 0.2."
   ]
  },
  {
   "cell_type": "markdown",
   "id": "42a57d99",
   "metadata": {},
   "source": [
    "## 5. Plot a scatter chart of the number of orders per user. Make conclusions and conjectures."
   ]
  },
  {
   "cell_type": "code",
   "execution_count": 25,
   "id": "bde5f52d",
   "metadata": {},
   "outputs": [
    {
     "data": {
      "image/png": "[encoded data removed]",
      "text/plain": [
       "<Figure size 864x288 with 1 Axes>"
      ]
     },
     "metadata": {
      "needs_background": "light"
     },
     "output_type": "display_data"
    }
   ],
   "source": [
    "#Creating DataFrame for orders per user\n",
    "ordersByUsers = orders.groupby(['visitorId', 'group']).agg({'transactionId':'nunique'}).reset_index()\n",
    "ordersByUsers.columns = ['visitorId','group','orders']\n",
    "\n",
    "#Plotting scatter chart of number of orders per user\n",
    "x_values = pd.Series(range(0,len(ordersByUsers)))\n",
    "\n",
    "plt.figure(figsize=(12,4))\n",
    "sns.scatterplot(data=ordersByUsers, x=x_values, y=\"orders\", hue='group',linewidth=0)\n",
    "plt.xlabel('Users')\n",
    "plt.ylabel('Orders')\n",
    "plt.title('Orders per user')\n",
    "plt.grid();"
   ]
  },
  {
   "cell_type": "markdown",
   "id": "ee19ab7f",
   "metadata": {},
   "source": [
    "The scatter plot depicts user orders per group. The majority of users had placed only 1 order and few placed 2 or more with the max of 3. These cases may be outliers.\n",
    "\n",
    "Calculating the 95th and 99th percentile of orders per user will present a clearer difference."
   ]
  },
  {
   "cell_type": "markdown",
   "id": "a472eb33",
   "metadata": {},
   "source": [
    "## 6. Calculate the 95th and 99th percentiles for the number of orders per user. Define the point at which a data point becomes an anomaly."
   ]
  },
  {
   "cell_type": "code",
   "execution_count": 26,
   "id": "64f56ff6",
   "metadata": {},
   "outputs": [
    {
     "data": {
      "text/plain": [
       "array([1., 2.])"
      ]
     },
     "execution_count": 26,
     "metadata": {},
     "output_type": "execute_result"
    }
   ],
   "source": [
    "#Calculating the 95th and 99th percentiles for the number of orders per user\n",
    "np.percentile(ordersByUsers['orders'], [95, 99])"
   ]
  },
  {
   "cell_type": "markdown",
   "id": "d283baa3",
   "metadata": {},
   "source": [
    "95% of the users placed just 1 order, 5% placed over 1 order and only 1% made over two. Values over 1 are anomalies as seen in our above plot as well."
   ]
  },
  {
   "cell_type": "markdown",
   "id": "6bf53aeb",
   "metadata": {},
   "source": [
    "## 7. Plot a scatter chart of order prices. Make conclusions and conjectures."
   ]
  },
  {
   "cell_type": "code",
   "execution_count": 27,
   "id": "9a6ce62a",
   "metadata": {},
   "outputs": [
    {
     "data": {
      "image/png": "[encoded data removed]",
      "text/plain": [
       "<Figure size 1152x288 with 2 Axes>"
      ]
     },
     "metadata": {
      "needs_background": "light"
     },
     "output_type": "display_data"
    }
   ],
   "source": [
    "#Plotting scatter chart of order prices\n",
    "x_values = pd.Series(range(0,len(orders['revenue'])))\n",
    "\n",
    "fig, ax = plt.subplots()\n",
    "fig.set_size_inches(16,4)\n",
    "\n",
    "plt.subplot(1,2,1)\n",
    "plt.xlabel('Price (revenue)')\n",
    "plt.ylabel('Orders')\n",
    "plt.title('Order prices')\n",
    "plt.scatter(x_values, orders['revenue'], c=orders['group'].map({'A':'tab:blue', 'B':'orange'}))\n",
    "\n",
    "custom_legend = [Line2D([0],[0], markerfacecolor='tab:blue', marker='o',color='w'),\n",
    "            Line2D([0],[0], markerfacecolor='orange', marker='o',color='w')]\n",
    "\n",
    "plt.legend(custom_legend, ['A', 'B']);\n",
    "\n",
    "\n",
    "#Plotting scatter chart of order prices under 1500 for a closer clearer look\n",
    "plt.subplot(1,2,2)\n",
    "plt.ylim(0,1500)\n",
    "plt.xlabel('Price (revenue)')\n",
    "plt.ylabel('Orders')\n",
    "plt.title('Order prices')\n",
    "plt.scatter(x_values, orders['revenue'], c=orders['group'].map({'A':'tab:blue', 'B':'orange'}))\n",
    "\n",
    "plt.legend(custom_legend, ['A', 'B']);"
   ]
  },
  {
   "cell_type": "markdown",
   "id": "95ca9f5a",
   "metadata": {},
   "source": [
    "The scatter plots depict that most orders are less than 2500, with the majority ranging up to ~500, yet it is difficult to say anything about the revenue of smaller orders. \n",
    "\n",
    "Anomalous orders are visible such as ~2500 and the most noticeable value is ~20000, which may have caused the increase in revenue and average order size for group B seen in previous graphs. \n",
    "\n",
    "After truncating outliers by limiting y values to max of 1500 dollars, it is clear there are more yet less extreme outliers over ~400 dollars.\n",
    "\n",
    "Calculating the 95th and 99th percentile of order prices will present a clearer difference."
   ]
  },
  {
   "cell_type": "markdown",
   "id": "fa7bc124",
   "metadata": {},
   "source": [
    "## 8. Calculate the 95th and 99th percentiles of order prices. Define the point at which a data point becomes an anomaly."
   ]
  },
  {
   "cell_type": "code",
   "execution_count": 28,
   "id": "d837890a",
   "metadata": {},
   "outputs": [
    {
     "data": {
      "text/plain": [
       "array([414.275, 830.3  ])"
      ]
     },
     "execution_count": 28,
     "metadata": {},
     "output_type": "execute_result"
    }
   ],
   "source": [
    "#Calculating the 95th and 99th percentiles of order prices\n",
    "np.percentile(orders['revenue'], [95, 99])"
   ]
  },
  {
   "cell_type": "markdown",
   "id": "8b1391de",
   "metadata": {},
   "source": [
    "95% of the users placed orders up to the price of 414.275, 5% placed over that and only 1% made orders of over 830.3. Values over 414.275 are anomalies as seen in our above plots as well."
   ]
  },
  {
   "cell_type": "markdown",
   "id": "ccee58d1",
   "metadata": {},
   "source": [
    "## 9. Find the statistical significance of the difference in conversion between the groups using the raw data. Make conclusions and conjectures."
   ]
  },
  {
   "cell_type": "markdown",
   "id": "c5ee5f2b",
   "metadata": {},
   "source": [
    "**Null Hypothesis H0**: there isn't a statistically significant difference in conversion rate between Group A and Group B.\n",
    "\n",
    "**Alternative Hypothesis H1**: there is a statistically significant difference in conversion rate between Group A and Group B.\n",
    "\n",
    "The criterion we'll use to test the hypotheses is 5% significance level (alpha) as it is typical in behavioral science."
   ]
  },
  {
   "cell_type": "code",
   "execution_count": 29,
   "id": "92db35e5",
   "metadata": {},
   "outputs": [
    {
     "name": "stdout",
     "output_type": "stream",
     "text": [
      "p-value: 0.006\n",
      "Relative difference: 16.0%\n",
      "We reject the null hypothesis: there is a statistically significant difference in conversion rate between Group A and Group B\n"
     ]
    }
   ],
   "source": [
    "#Creating dataframe for group A orders per user\n",
    "ordersByUsersA=(orders[orders['group']=='A'].groupby('visitorId',as_index=False)\n",
    "                .agg({'transactionId':pd.Series.nunique}))\n",
    "\n",
    "ordersByUsersA.columns = ['visitorId', 'orders']\n",
    "\n",
    "#Creating dataframe for group B orders per user\n",
    "ordersByUsersB=(orders[orders['group']=='B'].groupby('visitorId', as_index=False)\n",
    "                .agg({'transactionId':pd.Series.nunique}))\n",
    "\n",
    "ordersByUsersB.columns = ['visitorId', 'orders']\n",
    "\n",
    "#Creating dataframe of group A users who made orders \n",
    "sampleA = pd.concat([ordersByUsersA['orders'], \n",
    "                     pd.Series(0, index=np.arange(\n",
    "                         visits[visits['group']=='A']['visits'].sum() - \n",
    "                         len(ordersByUsersA['orders'])), name='orders')], axis=0)\n",
    "\n",
    "#Creating dataframe of group B users who made orders \n",
    "sampleB = pd.concat([ordersByUsersB['orders'], \n",
    "                     pd.Series(0, index=np.arange(\n",
    "                         visits[visits['group']=='B']['visits'].sum() - \n",
    "                         len(ordersByUsersB['orders'])), name='orders')], axis=0)\n",
    "\n",
    "#Testing hypothesis with the Mann-Whitney U test for both samples\n",
    "alpha = 0.05\n",
    "\n",
    "results = st.mannwhitneyu(sampleA, sampleB)\n",
    "\n",
    "print(\"p-value: {0:.3f}\".format(st.mannwhitneyu(sampleA, sampleB)[1]))\n",
    "print(\"Relative difference: {0:.1%}\".format(sampleB.mean()/sampleA.mean()-1))\n",
    "\n",
    "if (results.pvalue < alpha):\n",
    "    print(\"We reject the null hypothesis: there is a statistically significant difference in conversion rate between Group A and Group B\")\n",
    "else:\n",
    "    print(\"We can't reject the null hypothesis: there isn't a statistically significant difference in conversion rate between Group A and Group B\")"
   ]
  },
  {
   "cell_type": "markdown",
   "id": "7312861e",
   "metadata": {},
   "source": [
    "Calculations using raw data result in a p-value of 0.006 (lower than 0.05), therefore the null hypothesis is rejected and the groups' conversion rate are statistically significantly different.\n",
    "\n",
    "Group B has a 16% higher conversion rate than group A.\n",
    "\n",
    "Testing the hypothesis with filtered data (without outliers) will determine whether this result is an outcome of anomalies."
   ]
  },
  {
   "cell_type": "markdown",
   "id": "a5af320a",
   "metadata": {},
   "source": [
    "## 10. Find the statistical significance of the difference in average order size between the groups using the raw data. Make conclusions and conjectures."
   ]
  },
  {
   "cell_type": "markdown",
   "id": "30124d38",
   "metadata": {},
   "source": [
    "**Null Hypothesis H0**: there isn't statistically significant difference in average order size between Group A and Group B.\n",
    "\n",
    "**Alternative Hypothesis H1**: there is a statistically significant difference in average order size between Group A and Group B.\n",
    "\n",
    "The criterion we'll use to test the hypotheses is 5% significance level (alpha) as it is typical in behavioral science."
   ]
  },
  {
   "cell_type": "code",
   "execution_count": 30,
   "id": "b62874ed",
   "metadata": {},
   "outputs": [
    {
     "name": "stdout",
     "output_type": "stream",
     "text": [
      "p-value: 0.431\n",
      "Relative difference: 27.8%\n",
      "We can't reject the null hypothesis: there isn't statistically significant difference in average order size between Group A and Group B\n"
     ]
    }
   ],
   "source": [
    "#Creating sample dataframes for testing per group\n",
    "orderSizeA = orders[orders['group']=='A']['revenue']\n",
    "orderSizeB = orders[orders['group']=='B']['revenue']\n",
    "\n",
    "#Testing hypothesis with the Mann-Whitney U test for both samples\n",
    "alpha = 0.05\n",
    "\n",
    "results = st.mannwhitneyu(orderSizeA, orderSizeB)\n",
    "\n",
    "print('p-value: {0:.3f}'.format(st.mannwhitneyu(orderSizeA, orderSizeB)[1]))\n",
    "print('Relative difference: {0:.1%}'.format(orderSizeB.mean()/orderSizeA.mean()-1))\n",
    "\n",
    "if (results.pvalue < alpha):\n",
    "    print(\"We reject the null hypothesis: there is a statistically significant difference in average order size between Group A and Group B\")\n",
    "else:\n",
    "    print(\"We can't reject the null hypothesis: there isn't statistically significant difference in average order size between Group A and Group B\")"
   ]
  },
  {
   "cell_type": "markdown",
   "id": "9f808a8f",
   "metadata": {},
   "source": [
    "Calculations using raw data result in a p-value of 0.431 (higher than 0.05), therefore the null hypothesis isn't rejected and the groups' average order size aren't statistically significantly different.\n",
    "\n",
    "Group B has a 27.8% higher average order than group A.\n",
    "\n",
    "Testing the hypothesis with filtered data (without outliers) will determine whether this result is an outcome of anomalies."
   ]
  },
  {
   "cell_type": "markdown",
   "id": "0c3bfd0d",
   "metadata": {},
   "source": [
    "## 11. Find the statistical significance of the difference in conversion between the groups using the filtered data. Make conclusions and conjectures."
   ]
  },
  {
   "cell_type": "markdown",
   "id": "7a8a0cee",
   "metadata": {},
   "source": [
    "**Null Hypothesis H0**: there isn't a statistically significant difference in conversion rate between Group A and Group B using filtered data.\n",
    "\n",
    "**Alternative Hypothesis H1**: there is a statistically significant difference in conversion rate between Group A and Group B using filtered data.\n",
    "\n",
    "The criterion we'll use to test the hypotheses is 5% significance level (alpha) as it is typical in behavioral science."
   ]
  },
  {
   "cell_type": "code",
   "execution_count": 31,
   "id": "372fd4e7",
   "metadata": {},
   "outputs": [
    {
     "name": "stdout",
     "output_type": "stream",
     "text": [
      "p-value: 0.008\n",
      "Relative difference: 17.4%\n",
      "We reject the null hypothesis: there is a statistically significant difference in conversion rate between Group A and Group B using filtered data\n"
     ]
    }
   ],
   "source": [
    "#Creating slice using the 99th percentile of orders per user\n",
    "order_lim = np.percentile(ordersByUsers['orders'], 99)\n",
    "usersWithManyOrders = pd.concat([ordersByUsersA[ordersByUsersA['orders'] >= order_lim]['visitorId'],\n",
    "                                 ordersByUsersB[ordersByUsersB['orders'] >= order_lim]['visitorId']], axis = 0)\n",
    "\n",
    "#Creating slice using the 95th percentile of order price\n",
    "price_lim = np.percentile(orders['revenue'], 95)\n",
    "userWithExpensiveOrders = orders[orders['revenue'] > price_lim]['visitorId']\n",
    "\n",
    "#Joining the slices \n",
    "abnormalUsers = pd.concat([usersWithManyOrders, userWithExpensiveOrders], axis=0).drop_duplicates().sort_values()\n",
    "\n",
    "#Creating sample dataframes of filtered data\n",
    "sampleAFiltered = pd.concat(\n",
    "    [ordersByUsersA[np.logical_not(ordersByUsersA['visitorId'].isin(abnormalUsers))]['orders'], \n",
    "     pd.Series(0, index=np.arange(visits[visits['group']=='A']['visits'].sum() - len(ordersByUsersA['orders'])), \n",
    "               name='orders')],axis=0)\n",
    "\n",
    "sampleBFiltered = pd.concat(\n",
    "    [ordersByUsersB[np.logical_not(ordersByUsersB['visitorId'].isin(abnormalUsers))]['orders'], \n",
    "     pd.Series(0, index=np.arange(visits[visits['group']=='B']['visits'].sum() - len(ordersByUsersB['orders'])), \n",
    "               name='orders')],axis=0)\n",
    "\n",
    "#Testing hypothesis with the Mann-Whitney U test for both samples\n",
    "alpha = 0.05\n",
    "\n",
    "results = st.mannwhitneyu(sampleAFiltered, sampleBFiltered)\n",
    "\n",
    "print(\"p-value: {0:.3f}\".format(st.mannwhitneyu(sampleAFiltered, sampleBFiltered)[1]))\n",
    "print(\"Relative difference: {0:.1%}\".format(sampleBFiltered.mean()/sampleAFiltered.mean()-1))\n",
    "\n",
    "if (results.pvalue < alpha):\n",
    "    print(\"We reject the null hypothesis: there is a statistically significant difference in conversion rate between Group A and Group B using filtered data\")\n",
    "else:\n",
    "    print(\"We can't reject the null hypothesis: there isn't a statistically significant difference in conversion rate between Group A and Group B using filtered data\")"
   ]
  },
  {
   "cell_type": "markdown",
   "id": "f584893e",
   "metadata": {},
   "source": [
    "Data was filtered by the anomalous points determined earlier- number of orders over 1 and order price above 414.275.\n",
    "\n",
    "Then two variables were created- sampleAFiltered and sampleBFiltered to store the data per group after the anomalies have been filtered out.\n",
    "\n",
    "Calculations using filtered data result in a p-value of 0.008 (lower than 0.05), therefore the null hypothesis is rejected and the groups' conversion rate are statistically significantly different.\n",
    "\n",
    "Group B has a 17.4% higher conversion rate than group A.\n",
    "\n",
    "Filtering outliers didn't influence the statistical test results."
   ]
  },
  {
   "cell_type": "markdown",
   "id": "a088bc35",
   "metadata": {},
   "source": [
    "## 12. Find the statistical significance of the difference in average order size between the groups using the filtered data. Make conclusions and conjectures."
   ]
  },
  {
   "cell_type": "markdown",
   "id": "18873662",
   "metadata": {},
   "source": [
    "**Null Hypothesis H0**: there isn't a statistically significant difference in average order size between Group A and Group B using filtered data.\n",
    "\n",
    "**Alternative Hypothesis H1**: there is a statistically significant difference in average order size between Group A and Group B using filtered data.\n",
    "\n",
    "The criterion we'll use to test the hypotheses is 5% significance level (alpha) as it is typical in behavioral science."
   ]
  },
  {
   "cell_type": "code",
   "execution_count": 32,
   "id": "dc79d507",
   "metadata": {},
   "outputs": [
    {
     "name": "stdout",
     "output_type": "stream",
     "text": [
      "p-value: 0.386\n",
      "Relative difference: -3.3%\n",
      "We can't reject the null hypothesis: there isn't a statistically significant difference in average order size between Group A and Group B using filtered data\n"
     ]
    }
   ],
   "source": [
    "#Creating dataframes of filtered data\n",
    "orderSizeAFiltered = (orders[np.logical_and(orders['group']=='A',\n",
    "                                            np.logical_not(orders['visitorId'].isin(abnormalUsers)))]['revenue'])\n",
    "\n",
    "orderSizeBFiltered = (orders[np.logical_and(orders['group']=='B',\n",
    "                                            np.logical_not(orders['visitorId'].isin(abnormalUsers)))]['revenue'])\n",
    "\n",
    "#Testing hypothesis with the Mann-Whitney U test for both samples\n",
    "alpha = 0.05\n",
    "\n",
    "results = st.mannwhitneyu(orderSizeAFiltered, orderSizeBFiltered)\n",
    "\n",
    "print('p-value: {0:.3f}'.format(st.mannwhitneyu(orderSizeAFiltered, orderSizeBFiltered)[1]))\n",
    "print('Relative difference: {0:.1%}'.format(orderSizeBFiltered.mean()/orderSizeAFiltered.mean()-1))\n",
    "\n",
    "if (results.pvalue < alpha):\n",
    "    print(\"We reject the null hypothesis: there is a statistically significant difference in average order size between Group A and Group B using filtered data\")\n",
    "else:\n",
    "    print(\"We can't reject the null hypothesis: there isn't a statistically significant difference in average order size between Group A and Group B using filtered data\")"
   ]
  },
  {
   "cell_type": "markdown",
   "id": "bb07840c",
   "metadata": {},
   "source": [
    "Two variables were created- orderSizeAFiltered and orderSizeBFiltered to store the data per group after the anomalies have been filtered out.\n",
    "\n",
    "Calculations using filtered data result in a p-value of 0.386 (higher than 0.05), therefore the null hypothesis isn't rejected and the groups' average order size aren't statistically significantly different.\n",
    "\n",
    "Group A has a 3.3% higher average order size than group B- before filtering B was in the lead.\n",
    "\n",
    "Filtering outliers influenced the statistical test by resulting in a larger difference than before."
   ]
  },
  {
   "cell_type": "markdown",
   "id": "9716ab00",
   "metadata": {},
   "source": [
    "## 13. Make a decision based on the test results. The possible decisions are: 1. Stop the test, consider one of the groups the leader. 2. Stop the test, conclude that there is no difference between the groups. 3. Continue the test."
   ]
  },
  {
   "cell_type": "markdown",
   "id": "6eba9a51",
   "metadata": {},
   "source": [
    "In summary, this project provides actionable insights to the marketing experts on hypotheses that may help boost revenue.\n",
    "\n",
    "In this project, we followed the methodology as follows:\n",
    "- Open the date file and study the general information.\n",
    "- Data preprocessing including verifying there are no missing values and converting data to required types.\n",
    "- Make calculations as required for the analysis.\n",
    "- Prioritize the hypotheses.\n",
    "- Analyze the A/B test.\n",
    "- Plot graphs and then interpret the results.\n",
    "- Test hypotheses.\n",
    "- And now, final conclusion.\n",
    "\n",
    "Our main findings:\n",
    "- There is a statistically significant difference in conversion rates per group-  raw data and filtered data as well. Towards the end of the test the difference stabilized.\n",
    "- Group B's conversion rate is higher than Group A's by: raw-16% , filtered-17.4%.\n",
    "- Group B could significantly improve our conversion rates.\n",
    "\n",
    "- There isn't a statistically significant difference in the average order size per group- raw data and filtered data as well.\n",
    "- Group B in the lead with raw by 27.8% of average order size, yet in filtered 3.3% group A is in the lead.  \n",
    "- Group B isn't contributing or doesn't have any influence on the improvement of the order sizes.\n",
    "\n",
    "Options:\n",
    "**1. Stop the test, consider one of the groups the leader.**\n",
    "2. Stop the test, conclude that there is no difference between the groups.\n",
    "3. Continue the test.\n",
    "\n",
    "Final say:\n",
    "- The test can be **stopped** as the results were clear and reflected stable tendencies.\n",
    "- There was no significant difference between average order size per group, yet it was shown that there is a statistically significant difference in conversion rate between the two groups with **Group B** in the lead.\n",
    "- The hypothesis tested will improve the conversion rate, yet not the average purchase size."
   ]
  }
 ],
 "metadata": {
  "ExecuteTimeLog": [
   {
    "duration": 107250,
    "start_time": "2022-01-25T19:04:23.131Z"
   },
   {
    "duration": 111,
    "start_time": "2022-01-25T19:06:10.384Z"
   },
   {
    "duration": 14,
    "start_time": "2022-01-25T19:06:10.498Z"
   },
   {
    "duration": 8,
    "start_time": "2022-01-25T19:06:10.513Z"
   },
   {
    "duration": 15,
    "start_time": "2022-01-25T19:06:10.523Z"
   },
   {
    "duration": 26,
    "start_time": "2022-01-25T19:06:10.540Z"
   },
   {
    "duration": 15,
    "start_time": "2022-01-25T19:06:10.568Z"
   },
   {
    "duration": 6,
    "start_time": "2022-01-25T19:06:10.585Z"
   },
   {
    "duration": 8,
    "start_time": "2022-01-25T19:06:10.593Z"
   },
   {
    "duration": 27,
    "start_time": "2022-01-25T19:06:10.603Z"
   },
   {
    "duration": 9,
    "start_time": "2022-01-25T19:06:10.632Z"
   },
   {
    "duration": 12,
    "start_time": "2022-01-25T19:06:10.643Z"
   },
   {
    "duration": 9,
    "start_time": "2022-01-25T19:06:10.657Z"
   },
   {
    "duration": 37,
    "start_time": "2022-01-25T19:06:10.667Z"
   },
   {
    "duration": 11,
    "start_time": "2022-01-25T19:06:10.705Z"
   },
   {
    "duration": 15,
    "start_time": "2022-01-25T19:06:10.717Z"
   },
   {
    "duration": 14,
    "start_time": "2022-01-25T19:06:10.733Z"
   },
   {
    "duration": 15,
    "start_time": "2022-01-25T19:06:10.749Z"
   },
   {
    "duration": 38,
    "start_time": "2022-01-25T19:06:10.766Z"
   },
   {
    "duration": 619,
    "start_time": "2022-01-25T19:06:10.806Z"
   },
   {
    "duration": 587,
    "start_time": "2022-01-25T19:06:11.427Z"
   },
   {
    "duration": 364,
    "start_time": "2022-01-25T19:06:12.016Z"
   },
   {
    "duration": 355,
    "start_time": "2022-01-25T19:06:12.382Z"
   },
   {
    "duration": 679,
    "start_time": "2022-01-25T19:06:12.738Z"
   },
   {
    "duration": 372,
    "start_time": "2022-01-25T19:06:13.418Z"
   },
   {
    "duration": 7,
    "start_time": "2022-01-25T19:06:13.793Z"
   },
   {
    "duration": 698,
    "start_time": "2022-01-25T19:06:13.804Z"
   },
   {
    "duration": 5,
    "start_time": "2022-01-25T19:06:14.504Z"
   },
   {
    "duration": 124,
    "start_time": "2022-01-25T19:06:14.510Z"
   },
   {
    "duration": 9,
    "start_time": "2022-01-25T19:06:14.635Z"
   },
   {
    "duration": 41,
    "start_time": "2022-01-25T19:06:14.645Z"
   },
   {
    "duration": 27,
    "start_time": "2022-01-25T19:06:14.688Z"
   }
  ],
  "kernelspec": {
   "display_name": "Python 3",
   "language": "python",
   "name": "python3"
  },
  "language_info": {
   "codemirror_mode": {
    "name": "ipython",
    "version": 3
   },
   "file_extension": ".py",
   "mimetype": "text/x-python",
   "name": "python",
   "nbconvert_exporter": "python",
   "pygments_lexer": "ipython3",
   "version": "3.8.8"
  },
  "toc": {
   "base_numbering": 1,
   "nav_menu": {},
   "number_sections": true,
   "sideBar": true,
   "skip_h1_title": true,
   "title_cell": "Table of Contents",
   "title_sidebar": "Contents",
   "toc_cell": false,
   "toc_position": {},
   "toc_section_display": true,
   "toc_window_display": true
  }
 },
 "nbformat": 4,
 "nbformat_minor": 5
}
